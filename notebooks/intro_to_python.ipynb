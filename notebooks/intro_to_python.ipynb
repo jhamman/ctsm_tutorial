{
 "cells": [
  {
   "cell_type": "markdown",
   "metadata": {},
   "source": [
    "# The Scientific Python Ecosystem\n",
    "\n",
    "The Scientific Python Ecosystem is made up of a robust collection of packages that provide functionality for everything from simple numeric arrays to sophisticated machine learning algorithms. In this notebook, we'll introduce the core scientific python packages and some important terminology.\n",
    "\n",
    "![](./images/stack.png)\n",
    "\n",
    "### Outline\n",
    "- Python\n",
    "- Numpy\n",
    "- Scipy\n",
    "- Pandas\n",
    "- Xarray\n",
    "\n",
    "### Tutorial Duriation\n",
    "10 minutes\n",
    "\n",
    "### Going Further\n",
    "\n",
    "This notebook is just meant to make sure we all have the same base terminology before jumping into our tutorial. If you are new to Python or just want to brush up, you may be interested in the following online resources:\n",
    "\n",
    "- Scientific Python Lectures: http://scipy-lectures.org/\n",
    "- Numpy Tutorial: https://docs.scipy.org/doc/numpy-dev/user/quickstart.html\n",
    "- Scipy Tutorial: https://docs.scipy.org/doc/scipy/reference/tutorial/index.html\n",
    "- Pandas Tutorials: https://pandas.pydata.org/pandas-docs/stable/tutorials.html\n",
    "- Xarray Tutorial: https://geohackweek.github.io/nDarrays/"
   ]
  },
  {
   "cell_type": "markdown",
   "metadata": {},
   "source": [
    "## Python built-ins"
   ]
  },
  {
   "cell_type": "code",
   "execution_count": null,
   "metadata": {
    "collapsed": false
   },
   "outputs": [],
   "source": [
    "# data types\n",
    "x = 4  # integer\n",
    "type(x)"
   ]
  },
  {
   "cell_type": "code",
   "execution_count": null,
   "metadata": {
    "collapsed": false
   },
   "outputs": [],
   "source": [
    "pi = 3.14  # float\n",
    "type(pi)"
   ]
  },
  {
   "cell_type": "code",
   "execution_count": null,
   "metadata": {
    "collapsed": false
   },
   "outputs": [],
   "source": [
    "name = 'my string'  # a string type\n",
    "type(name)"
   ]
  },
  {
   "cell_type": "code",
   "execution_count": null,
   "metadata": {
    "collapsed": false
   },
   "outputs": [],
   "source": [
    "# data structures / objects\n",
    "\n",
    "my_list = [2, 4, 10]  # a list\n",
    "\n",
    "my_list[2]  # access by position"
   ]
  },
  {
   "cell_type": "code",
   "execution_count": null,
   "metadata": {
    "collapsed": false
   },
   "outputs": [],
   "source": [
    "my_dict = {'pi': 3.14, 'd': 4}  # a dictionary\n",
    "\n",
    "\n",
    "my_dict['pi']  # access by key"
   ]
  },
  {
   "cell_type": "markdown",
   "metadata": {},
   "source": [
    "## Numpy\n",
    "\n",
    "NumPy is the fundamental package for scientific computing with Python. It contains among other things:\n",
    "\n",
    "- a powerful N-dimensional array object\n",
    "- sophisticated (broadcasting) functions\n",
    "- tools for integrating C/C++ and Fortran code\n",
    "- useful linear algebra, Fourier transform, and random number capabilities\n",
    "\n",
    "Numpy Documentation: https://docs.scipy.org/doc/numpy/"
   ]
  },
  {
   "cell_type": "code",
   "execution_count": null,
   "metadata": {
    "collapsed": true
   },
   "outputs": [],
   "source": [
    "import numpy as np"
   ]
  },
  {
   "cell_type": "code",
   "execution_count": null,
   "metadata": {
    "collapsed": false
   },
   "outputs": [],
   "source": [
    "# create a 4x5 array of zeros\n",
    "x = np.zeros(shape=(4, 5))\n",
    "x"
   ]
  },
  {
   "cell_type": "code",
   "execution_count": null,
   "metadata": {
    "collapsed": false
   },
   "outputs": [],
   "source": [
    "# add an integer to the array of zeros\n",
    "y = x + 4\n",
    "y"
   ]
  },
  {
   "cell_type": "code",
   "execution_count": null,
   "metadata": {
    "collapsed": false
   },
   "outputs": [],
   "source": [
    "# create an array of random numbers\n",
    "z = np.random.random(x.shape)\n",
    "z"
   ]
  },
  {
   "cell_type": "code",
   "execution_count": null,
   "metadata": {
    "collapsed": false
   },
   "outputs": [],
   "source": [
    "# aggregate along an axis of the array\n",
    "z_sum = z.sum(axis=1)\n",
    "z_sum"
   ]
  },
  {
   "cell_type": "code",
   "execution_count": null,
   "metadata": {
    "collapsed": false
   },
   "outputs": [],
   "source": [
    "# numpy performs some fancy broadcasting and dimension alignment\n",
    "y.transpose() * z_sum"
   ]
  },
  {
   "cell_type": "code",
   "execution_count": null,
   "metadata": {
    "collapsed": false
   },
   "outputs": [],
   "source": [
    "# slicing (or selecting a subset of an array)\n",
    "z[2:4, ::2]  # 2-4 on the first axis, stride of 2 on the second"
   ]
  },
  {
   "cell_type": "code",
   "execution_count": null,
   "metadata": {
    "collapsed": false
   },
   "outputs": [],
   "source": [
    "# data types\n",
    "\n",
    "xi = np.array([1, 2, 3], dtype=np.int)  # integer\n",
    "xi.dtype"
   ]
  },
  {
   "cell_type": "code",
   "execution_count": null,
   "metadata": {
    "collapsed": false
   },
   "outputs": [],
   "source": [
    "xf = np.array([1, 2, 3], dtype=np.float)  # float\n",
    "xf.dtype"
   ]
  },
  {
   "cell_type": "code",
   "execution_count": null,
   "metadata": {
    "collapsed": false
   },
   "outputs": [],
   "source": [
    "# universal functions (ufuncs, e.g. sin, cos, exp, etc)\n",
    "np.sin(z_sum)\n"
   ]
  },
  {
   "cell_type": "markdown",
   "metadata": {},
   "source": [
    "### SciPy\n",
    "\n",
    "SciPy is a collection of mathematical algorithms and convenience functions built on the Numpy extension of Python. It adds significant power to the interactive Python session by providing the user with high-level commands and classes for manipulating and visualizing data. SciPy includes a number of subpackages covering different scientific computing domains:\n",
    "\n",
    "| Subpackage | Description|\n",
    "| ------| ------|\n",
    "| cluster |\tClustering algorithms|\n",
    "| constants |\tPhysical and mathematical constants|\n",
    "| fftpack |\tFast Fourier Transform routines|\n",
    "| integrate |\tIntegration and ordinary differential equation solvers|\n",
    "| interpolate |\tInterpolation and smoothing splines|\n",
    "| io |\tInput and Output|\n",
    "| linalg |\tLinear algebra|\n",
    "| ndimage |\tN-dimensional image processing|\n",
    "| odr |\tOrthogonal distance regression|\n",
    "| optimize |\tOptimization and root-finding routines|\n",
    "| signal |\tSignal processing|\n",
    "| sparse |\tSparse matrices and associated routines|\n",
    "| spatial |\tSpatial data structures and algorithms|\n",
    "| special |\tSpecial functions|\n",
    "| stats |\tStatistical distributions and functions\n",
    "\n",
    "Because SciPy is built directly on Numpy, we'll skip any examples for now. The SciPy API is well documented with examples how to use specific subpackages.\n",
    "\n",
    "SciPy Documentation: "
   ]
  },
  {
   "cell_type": "markdown",
   "metadata": {},
   "source": [
    "### Pandas\n",
    "\n",
    "pandas is a Python package providing fast, flexible, and expressive data structures designed to make working with “relational” or “labeled” data both easy and intuitive. It aims to be the fundamental high-level building block for doing practical, real world data analysis in Python.\n",
    "\n",
    "Pandas Documentation: http://pandas.pydata.org/pandas-docs/stable/"
   ]
  },
  {
   "cell_type": "code",
   "execution_count": null,
   "metadata": {
    "collapsed": true
   },
   "outputs": [],
   "source": [
    "import pandas as pd"
   ]
  },
  {
   "cell_type": "code",
   "execution_count": null,
   "metadata": {
    "collapsed": false
   },
   "outputs": [],
   "source": [
    "# This data can also be loaded from the statsmodels package\n",
    "# import statsmodels as sm\n",
    "# co2 = sm.datasets.co2.load_pandas().data \n",
    "\n",
    "co2 = pd.read_csv('./data/co2.csv', index_col=0, parse_dates=True)"
   ]
  },
  {
   "cell_type": "code",
   "execution_count": null,
   "metadata": {
    "collapsed": false
   },
   "outputs": [],
   "source": [
    "# co2 is a pandas.DataFrame\n",
    "co2.head()  # head just prints out the first few rows"
   ]
  },
  {
   "cell_type": "code",
   "execution_count": null,
   "metadata": {
    "collapsed": false
   },
   "outputs": [],
   "source": [
    "# The pandas DataFrame is made up of an index\n",
    "co2.index"
   ]
  },
  {
   "cell_type": "code",
   "execution_count": null,
   "metadata": {
    "collapsed": false
   },
   "outputs": [],
   "source": [
    "# and 0 or more columns (in this case just 1 - co2)\n",
    "# Each column is a pandas.Series\n",
    "co2['co2'].head()  \n"
   ]
  },
  {
   "cell_type": "code",
   "execution_count": null,
   "metadata": {
    "collapsed": false
   },
   "outputs": [],
   "source": [
    "# label based slicing\n",
    "co2['1990-01-01': '1990-02-14']"
   ]
  },
  {
   "cell_type": "code",
   "execution_count": null,
   "metadata": {
    "collapsed": false
   },
   "outputs": [],
   "source": [
    "# aggregations just like in numpy\n",
    "co2.mean(axis=0)"
   ]
  },
  {
   "cell_type": "code",
   "execution_count": null,
   "metadata": {
    "collapsed": false
   },
   "outputs": [],
   "source": [
    "# advanced grouping/resampling\n",
    "\n",
    "# here we'll calculate the annual average timeseris of co2 concentraions\n",
    "co2_as = co2.resample('AS').mean()  # AS is for the start of each year\n",
    "\n",
    "co2_as.head()"
   ]
  },
  {
   "cell_type": "code",
   "execution_count": null,
   "metadata": {
    "collapsed": false
   },
   "outputs": [],
   "source": [
    "# we can also quickly calculate the monthly climatology\n",
    "\n",
    "co2_climatology = co2.groupby(co2.index.month).mean()\n",
    "co2_climatology"
   ]
  },
  {
   "cell_type": "code",
   "execution_count": null,
   "metadata": {
    "collapsed": false
   },
   "outputs": [],
   "source": [
    "%matplotlib inline\n",
    "\n",
    "# and even plot that using pandas and matplotlib\n",
    "co2_climatology.plot()"
   ]
  },
  {
   "cell_type": "markdown",
   "metadata": {},
   "source": [
    "### Xarray\n",
    "\n",
    "xarray is an open source project and Python package that makes working with labelled multi-dimensional arrays simple, efficient, and fun!\n",
    "\n",
    "Xarray introduces labels in the form of dimensions, coordinates and attributes on top of raw NumPy-like arrays, which allows for a more intuitive, more concise, and less error-prone developer experience. The package includes a large and growing library of domain-agnostic functions for advanced analytics and visualization with these data structures.\n",
    "\n",
    "Xarray was inspired by and borrows heavily from pandas, the popular data analysis package focused on labelled tabular data. It is particularly tailored to working with netCDF files, which were the source of xarray's data model, and integrates tightly with dask for parallel computing.\n",
    "\n",
    "Xarray Documentation: http://xarray.pydata.org/en/stable/\n",
    "\n",
    "![](./images/xarray.png)\n"
   ]
  },
  {
   "cell_type": "code",
   "execution_count": null,
   "metadata": {},
   "outputs": [],
   "source": [
    "import xarray as xr"
   ]
  },
  {
   "cell_type": "code",
   "execution_count": null,
   "metadata": {},
   "outputs": [],
   "source": [
    "# Open some sample data, this could also be accessed via: \n",
    "# ds = xr.tutorial.open_dataset('air_temperature')\n",
    "ds = xr.open_dataset('./data/air_temperature.nc')"
   ]
  },
  {
   "cell_type": "markdown",
   "metadata": {},
   "source": [
    "Opening a NetCDF file gives us an `xarray.Dataset`.\n",
    "These have dimensions, coordinates, data variables, and attributes.\n",
    "\n",
    "- Dimensions are the names of each axis (e.g. axis 0 is the time dimension)\n",
    "- Cooridinates are like Pandas Indexes (described above)\n",
    "- Data variables are where the actual data in a dataset lives\n",
    "- Attributes are the metadata describing the dataset."
   ]
  },
  {
   "cell_type": "code",
   "execution_count": null,
   "metadata": {},
   "outputs": [],
   "source": [
    "print(ds)"
   ]
  },
  {
   "cell_type": "markdown",
   "metadata": {},
   "source": [
    "Each data variable is a xarray.DataArray"
   ]
  },
  {
   "cell_type": "code",
   "execution_count": null,
   "metadata": {},
   "outputs": [],
   "source": [
    "ds['air']"
   ]
  },
  {
   "cell_type": "markdown",
   "metadata": {},
   "source": [
    "Xarray has a robust tool kit for doing analysis of your data. A few examples:"
   ]
  },
  {
   "cell_type": "code",
   "execution_count": null,
   "metadata": {},
   "outputs": [],
   "source": [
    "# take the mean along the time dimension\n",
    "ds_mean = ds.mean(dim='time')\n",
    "ds_mean"
   ]
  },
  {
   "cell_type": "code",
   "execution_count": null,
   "metadata": {},
   "outputs": [],
   "source": [
    "# indexing using coordinates\n",
    "ds.sel(time=slice('2013-03-01', '2013-06-01'))"
   ]
  },
  {
   "cell_type": "code",
   "execution_count": null,
   "metadata": {},
   "outputs": [],
   "source": [
    "# resample the air_temperature data to monthly means\n",
    "ds['air'].resample(time='1MS').mean(dim='time')"
   ]
  },
  {
   "cell_type": "code",
   "execution_count": null,
   "metadata": {},
   "outputs": [],
   "source": [
    "# make a plot of the standard deviation of air temperature\n",
    "ds['air'].std(dim='time').plot()"
   ]
  },
  {
   "cell_type": "code",
   "execution_count": null,
   "metadata": {},
   "outputs": [],
   "source": [
    "# mask out where its cold or hot\n",
    "da = ds['air'].sel(time='2013-05-01 T18:00:00')\n",
    "da.where((da > 273) & (da < 295)).plot()"
   ]
  },
  {
   "cell_type": "code",
   "execution_count": null,
   "metadata": {},
   "outputs": [],
   "source": [
    "# calculate the mean temperature for each season using groupby\n",
    "da_season = ds['air'].groupby('time.season').mean(dim='time')\n",
    "da_season"
   ]
  },
  {
   "cell_type": "code",
   "execution_count": null,
   "metadata": {},
   "outputs": [],
   "source": [
    "# and plot that using xarray's facet grid feature\n",
    "da_season.plot(col='season', col_wrap=2)"
   ]
  },
  {
   "cell_type": "code",
   "execution_count": null,
   "metadata": {},
   "outputs": [],
   "source": []
  }
 ],
 "metadata": {
  "kernelspec": {
   "display_name": "Python 3",
   "language": "python",
   "name": "python3"
  },
  "language_info": {
   "codemirror_mode": {
    "name": "ipython",
    "version": 3
   },
   "file_extension": ".py",
   "mimetype": "text/x-python",
   "name": "python",
   "nbconvert_exporter": "python",
   "pygments_lexer": "ipython3",
   "version": "3.7.1"
  }
 },
 "nbformat": 4,
 "nbformat_minor": 2
}
